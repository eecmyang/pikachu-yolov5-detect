{
 "cells": [
  {
   "cell_type": "code",
   "execution_count": 1,
   "source": [
    "import os\r\n",
    "import sys\r\n",
    "import numpy as np\r\n",
    "from PIL import Image, ImageDraw, ImageFont, ImageColor\r\n",
    "import torch"
   ],
   "outputs": [],
   "metadata": {}
  },
  {
   "cell_type": "code",
   "execution_count": 2,
   "source": [
    "# Yolov5 folder path\r\n",
    "cwd = os.getcwd()\r\n",
    "root_dir = cwd + \"/yolov5_stable\"\r\n",
    "sys.path.append(root_dir)"
   ],
   "outputs": [],
   "metadata": {}
  },
  {
   "cell_type": "code",
   "execution_count": 3,
   "source": [
    "from models.experimental import attempt_load\r\n",
    "from utils.datasets import LoadImages\r\n",
    "from utils.general import non_max_suppression, scale_coords\r\n",
    "from utils.plots import colors"
   ],
   "outputs": [],
   "metadata": {}
  },
  {
   "cell_type": "code",
   "execution_count": 4,
   "source": [
    "def show_pikachu(img, det):\r\n",
    "    labels = [\"pikachu\"]\r\n",
    "    img = Image.fromarray(img)\r\n",
    "    draw = ImageDraw.Draw(img)\r\n",
    "    font_size = max(round(max(img.size)/40), 12)\r\n",
    "    font = ImageFont.truetype(cwd + \"/yolov5_stable/fonts/times.ttf\")\r\n",
    "    \r\n",
    "    for info in det:\r\n",
    "        color = colors(1)\r\n",
    "        target, prob = int(info[5].cpu().numpy()), np.round(info[4].cpu().numpy(), 2)\r\n",
    "        x_min, y_min, x_max, y_max = info[0], info[1], info[2], info[3]\r\n",
    "        draw.rectangle([x_min, y_min, x_max, y_max], width = 3, outline = color)\r\n",
    "        draw.text((x_min, y_min), labels[target] + ':' + str(prob), fill = color, font = font)\r\n",
    "        \r\n",
    "    # remember to make pikachu show in yellow, later\r\n",
    "    \r\n",
    "    return img"
   ],
   "outputs": [],
   "metadata": {}
  },
  {
   "cell_type": "code",
   "execution_count": 5,
   "source": [
    "if __name__ == \"__main__\":\r\n",
    "    device = \"cuda:0\" if torch.cuda.is_available() else \"cpu\"\r\n",
    "    print(\"GPU State: \", device)\r\n",
    "    \r\n",
    "    data_path = (cwd + \"/test_data/\")\r\n",
    "    weight_path = (cwd + \"/yolov5_stable/weights/best_v1.pt\")\r\n",
    "    dataset = LoadImages(data_path)\r\n",
    "    model = attempt_load(weight_path, map_location = device)\r\n",
    "    model.to(device)\r\n",
    "    \r\n",
    "    for path, img, im0s, _ in dataset:\r\n",
    "        img = torch.from_numpy(img).to(device)\r\n",
    "        img = img.float() # uint8 to fp16/32\r\n",
    "        img /= 255.0 # 0-255 to 0.0-1.0\r\n",
    "        if img.ndimension() == 3:\r\n",
    "            img = img.unsqueeze(0)\r\n",
    "            \r\n",
    "        pred = model(img)[0]\r\n",
    "        pred = non_max_suppression(pred, 0.25, 0.45)\r\n",
    "        for i, det in enumerate(pred):\r\n",
    "            im0 = im0s.copy()\r\n",
    "            det[:, :4] = scale_coords(img.shape[2:], det[:, :4], im0.shape).round()\r\n",
    "            result = show_pikachu(im0, det)\r\n",
    "            result.show()"
   ],
   "outputs": [
    {
     "output_type": "stream",
     "name": "stdout",
     "text": [
      "GPU State:  cuda:0\n"
     ]
    },
    {
     "output_type": "stream",
     "name": "stderr",
     "text": [
      "C:\\Anaconda3\\envs\\yoloExp\\lib\\site-packages\\torch\\nn\\functional.py:718: UserWarning: Named tensors and all their associated APIs are an experimental feature and subject to change. Please do not use them for anything important until they are released as stable. (Triggered internally at  ..\\c10/core/TensorImpl.h:1156.)\n",
      "  return torch.max_pool2d(input, kernel_size, stride, padding, dilation, ceil_mode)\n"
     ]
    },
    {
     "output_type": "stream",
     "name": "stdout",
     "text": [
      "image 1/10 d:\\Desktop\\pokemon_det_git\\test_data\\41.jpg: image 2/10 d:\\Desktop\\pokemon_det_git\\test_data\\42.jpg: image 3/10 d:\\Desktop\\pokemon_det_git\\test_data\\43.jpg: image 4/10 d:\\Desktop\\pokemon_det_git\\test_data\\44.jpg: image 5/10 d:\\Desktop\\pokemon_det_git\\test_data\\45.jpg: image 6/10 d:\\Desktop\\pokemon_det_git\\test_data\\46.jpg: image 7/10 d:\\Desktop\\pokemon_det_git\\test_data\\47.jpg: image 8/10 d:\\Desktop\\pokemon_det_git\\test_data\\48.jpg: image 9/10 d:\\Desktop\\pokemon_det_git\\test_data\\49.jpg: image 10/10 d:\\Desktop\\pokemon_det_git\\test_data\\50.jpg: "
     ]
    }
   ],
   "metadata": {}
  },
  {
   "cell_type": "code",
   "execution_count": null,
   "source": [],
   "outputs": [],
   "metadata": {}
  }
 ],
 "metadata": {
  "kernelspec": {
   "name": "python3",
   "display_name": "Python 3.8.11 64-bit ('yoloExp': conda)"
  },
  "language_info": {
   "codemirror_mode": {
    "name": "ipython",
    "version": 3
   },
   "file_extension": ".py",
   "mimetype": "text/x-python",
   "name": "python",
   "nbconvert_exporter": "python",
   "pygments_lexer": "ipython3",
   "version": "3.8.11"
  },
  "interpreter": {
   "hash": "31c00a483b1488de456f220a80f2f540e33af5783521f78fce5ce950ce1862dd"
  }
 },
 "nbformat": 4,
 "nbformat_minor": 5
}